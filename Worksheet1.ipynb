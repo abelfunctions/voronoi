{
 "cells": [
  {
   "cell_type": "code",
   "execution_count": 1,
   "metadata": {
    "collapsed": true
   },
   "outputs": [],
   "source": [
    "# Defining a polynomial ring called RQ over the rationals in two variables, z, w.\n",
    "RQ.<z,w> = QQ[]"
   ]
  },
  {
   "cell_type": "code",
   "execution_count": 2,
   "metadata": {
    "collapsed": false
   },
   "outputs": [
    {
     "name": "stdout",
     "output_type": "stream",
     "text": [
      "-z^6 - 2*z^3*w + w^3 - w^2 + 1\n"
     ]
    }
   ],
   "source": [
    "# Testbed of polynomials.\n",
    "\n",
    "f1 = (z**2 - z + 1)*w**2 - 2*z**2*w + z**4\n",
    "f2 = -z**7 + 2*z**3*w + w**3\n",
    "f3 = (w**2-z**2)*(z-1)*(2*z-3) - 4*(z**2+w**2-2*z)**2\n",
    "f4 = w**2 + z**3 - z**2\n",
    "f5 = (z**2 + w**2)**3 + 3*z**2*w - w**3\n",
    "f6 = w**4 - w**2*z + z**2\n",
    "f7 = w**3 - (z**3 + w)**2 + 1\n",
    "f8 = z**2*w**6 + 2*z**3*w**5 - 1\n",
    "f9 = 2*z**7*w + 2*z**7 + w**3 + 3*w**2 + 3*w\n",
    "f10 = (z**3)*w**4 + 4*z**2*w**2 + 2*z**3*w - 1\n",
    "f11 = w**7 - (z*((z-1)**2))\n",
    "f12 = z*w**3 + w**3 + z\n",
    "\n",
    "# Selecting a polynomial for use.\n",
    "f = f7\n",
    "print f\n",
    "d = f.degree(w)"
   ]
  },
  {
   "cell_type": "code",
   "execution_count": 3,
   "metadata": {
    "collapsed": false
   },
   "outputs": [
    {
     "data": {
      "text/plain": [
       "-2*z^3 + 3*w^2 - 2*w"
      ]
     },
     "execution_count": 3,
     "metadata": {},
     "output_type": "execute_result"
    }
   ],
   "source": [
    "# Differentiating f with respect to w.\n",
    "dfdw = diff(f,w)\n",
    "dfdw"
   ]
  },
  {
   "cell_type": "code",
   "execution_count": 4,
   "metadata": {
    "collapsed": false
   },
   "outputs": [
    {
     "data": {
      "text/plain": [
       "27*z^12 + 4*z^9 - 54*z^6 - 36*z^3 + 23"
      ]
     },
     "execution_count": 4,
     "metadata": {},
     "output_type": "execute_result"
    }
   ],
   "source": [
    "# Computing the resultant of dfdw with respect to w. This will be a polynomial in one variable, z.\n",
    "# The roots of this polynomial encode the branch locus for which the algebraic curve defined by f has a branch cut.\n",
    "branchpolynomial = f.resultant(dfdw,w)\n",
    "branchpolynomial"
   ]
  },
  {
   "cell_type": "code",
   "execution_count": 5,
   "metadata": {
    "collapsed": true
   },
   "outputs": [],
   "source": [
    "# We wish to compute the complex-valued roots, so we define the ring which branchpolynomial lies in as a complex valued \n",
    "# polynomial. Since computers can't really work with transcendentals, we use 53 bits of precision for the numbers.\n",
    "#\n",
    "# The variable z is in apostrophes to indicate that it is the same variable as above.\n",
    "CCz = ComplexField(53)['z']"
   ]
  },
  {
   "cell_type": "code",
   "execution_count": 6,
   "metadata": {
    "collapsed": false
   },
   "outputs": [],
   "source": [
    "# Computing the roots.\n",
    "branchlocus = CCz(branchpolynomial).roots(multiplicities=false)"
   ]
  },
  {
   "cell_type": "code",
   "execution_count": 7,
   "metadata": {
    "collapsed": false
   },
   "outputs": [],
   "source": [
    "# Seperating the real and imaginary parts into x-y-coordinates for use in plotting.\n",
    "branchlocusXY = [(x.real_part(),x.imag_part()) for x in branchlocus]"
   ]
  },
  {
   "cell_type": "code",
   "execution_count": 8,
   "metadata": {
    "collapsed": true
   },
   "outputs": [],
   "source": [
    "# Importing necessary packages. Namely, Voronoi and integration.\n",
    "#\n",
    "# Note: it is unclear to me whether it is important that Nils imports this here specifically rather than at the beginning \n",
    "#       of the code.\n",
    "#\n",
    "from scipy.spatial import Voronoi, voronoi_plot_2d\n",
    "import scipy.integrate"
   ]
  },
  {
   "cell_type": "code",
   "execution_count": 9,
   "metadata": {
    "collapsed": false
   },
   "outputs": [],
   "source": [
    "# Defining the boundary points for the Voronoi diagram. In the future, it may be useful to try using a circle (or rather \n",
    "# an approximation to one). The below code will ensure that our branch points are actually contained in the interior of \n",
    "# the box, but there may be better designs for the box.\n",
    "\n",
    "# First try on box.\n",
    "maxx = 2*max(x for x,y in branchlocus)\n",
    "minx = 2*min(x for x,y in branchlocus)\n",
    "maxy = 2*max(y for x,y in branchlocus)\n",
    "miny = 2*min(y for x,y in branchlocus)\n",
    "\n",
    "# If some of the coordinates are zero, then our points will lie on the boundary of the box. We don't want this.\n",
    "# There is really only one case. If the max is zero, we know the min is negative, so we can just flip the sign. A similar \n",
    "# argument works for if the min is zero, we just flip signs. Then we can do it for the y as well.\n",
    "if abs(maxx) < 10^(-5):\n",
    "    maxx = -minx\n",
    "if abs(minx) < 10^(-5):\n",
    "    minx = -maxx\n",
    "if abs(maxy) < 10^(-5):\n",
    "    maxy = -miny\n",
    "if abs(miny) < 10^(-5):\n",
    "    miny = -maxy\n",
    "\n",
    "# Also, they are actually supposed to form a box!! So if one of the intervals collapses to a single point, we have to fix \n",
    "# that.\n",
    "#\n",
    "# In our situation, we will always have at least two points- Otherwise, our algebraic curve has genus zero. This is not\n",
    "# an interseting case for us. This means that only one of the intervals could be trivial. For instance, if all of the \n",
    "# roots are real, they all lie on the x-axis.\n",
    "#\n",
    "# To fix this, we just make the interval the same as the one which is not trivial. Shifted accordingly so that the points \n",
    "# are centered at it.\n",
    "#\n",
    "# There may be a better way to do this, but I'm not sure what that is. This is just a temporary fix anyways.\n",
    "if (abs(minx - maxx) < 10^(-5)):\n",
    "    minx = branchlocus[0][0] - (abs(maxy) + abs(miny))/2\n",
    "    maxx = branchlocus[0][0] + (abs(maxy) + abs(miny))/2\n",
    "\n",
    "if (abs(miny - maxy) < 10^(-5)):\n",
    "    miny = branchlocus[0][1] - (abs(maxx) + abs(minx))/2\n",
    "    maxy = branchlocus[0][1] + (abs(maxx) + abs(minx))/2\n",
    "\n",
    "# Now, with all of our points we can form our Voronoi diagram.\n",
    "B = branchlocusXY + [(x,y) for x in [minx,maxx] for y in [miny,maxy]]\n",
    "vor = Voronoi(B)"
   ]
  },
  {
   "cell_type": "code",
   "execution_count": 10,
   "metadata": {
    "collapsed": false
   },
   "outputs": [],
   "source": [
    "# Plotting the diagram. According to Nils, some problems with the matlabplot installation means that I must save figures \n",
    "# seperately.\n",
    "t=voronoi_plot_2d(vor)\n",
    "t.savefig('figure.png')"
   ]
  },
  {
   "cell_type": "code",
   "execution_count": 11,
   "metadata": {
    "collapsed": true
   },
   "outputs": [],
   "source": [
    "# For each vertex z0 of the Voronoi diagram, we associate d points (where d is the degree of f in w), which are the roots \n",
    "# of f(z0,w) in w.\n",
    "CC = ComplexField(53)\n",
    "CCw = CC['w']\n",
    "\n",
    "# Each vertex will be interpreted as a complex number.\n",
    "vertices = [CC(x0,y0) for x0,y0 in vor.vertices]\n",
    "# We can plug in these values and solve the resulting polynomials.\n",
    "wvalues = [f(z0,CCw.0).roots(multiplicities=false) for z0 in vertices]\n",
    "# n is the number of vertices.\n",
    "n = len(vertices)"
   ]
  },
  {
   "cell_type": "code",
   "execution_count": 12,
   "metadata": {
    "collapsed": false
   },
   "outputs": [],
   "source": [
    "# We care only about the regions associated with the branchlocus points, since the regions around infinity can be computed\n",
    "# differently.\n",
    "monodromy_basis = [vor.regions[vor.point_region[i]] for i in range(len(branchlocus))]\n",
    "# Note: It may be worth reorienting the order of the cycles to always\n",
    "#       be counter-clockwise.\n",
    "\n",
    "\n",
    "# Below is a relic of a misunderstanding.\n",
    "#\n",
    "# We want the points of the voronoi diagram to be ordered with respect\n",
    "# to argument when interpreted as complex points.\n",
    "#indexswap = [y for (x,y) in sorted(zip(vertices,range(len(vertices))),\n",
    "#             key = lambda tuple: tuple[0].argument())]\n",
    "#print indexswap\n",
    "# This changes the position of the vertices.\n",
    "#vor.vertices = [vor.vertices[i] for i in indexswap]\n",
    "# This changes all of the edges in the monodromy basis...\n",
    "#monodromy_basis = [[indexswap.index(i) for i in x] for x in monodromy_basis]\n",
    "#print \"New Monodromy basis: \\n\", monodromy_basis\n",
    "# Finally, sorts the complex numbers.\n",
    "#vertices.sort(key=sage.rings.complex_number.ComplexNumber.argument)"
   ]
  },
  {
   "cell_type": "code",
   "execution_count": 13,
   "metadata": {
    "collapsed": false
   },
   "outputs": [
    {
     "name": "stdout",
     "output_type": "stream",
     "text": [
      "Voronoi diagram edges: [(0, 4), (0, 7), (1, 3), (1, 5), (2, 3), (2, 6), (2, 20), (3, 11), (4, 5), (5, 6), (7, 15), (8, 10), (8, 13), (8, 19), (9, 7), (9, 10), (9, 14), (10, 21), (11, 12), (11, 20), (12, 13), (14, 15), (16, 4), (16, 6), (16, 15), (16, 17), (17, 20), (17, 21), (18, 13), (18, 19), (18, 20), (19, 21), (21, 14)]\n"
     ]
    }
   ],
   "source": [
    "# Computing the edgeset of the Voronoi diagram.\n",
    "# Frozensets are used here because we don't distinguish between (1,2) and (2,1) being different edges.\n",
    "edges1 = set()\n",
    "for c in monodromy_basis:\n",
    "    for j in range(len(c)-1):\n",
    "        edges1.add(frozenset((c[j],c[j+1])))\n",
    "    edges1.add(frozenset((c[0],c[-1])))\n",
    "\n",
    "# Convert this back to a list, then sort. I use this later to easily compute the permutations associated with an edge\n",
    "# but perhaps we don't need to do this?\n",
    "edges = []\n",
    "for e in edges1:\n",
    "    i0, i1 = e\n",
    "    edges = edges + [(i0,i1)]\n",
    "edges.sort()\n",
    "\n",
    "print \"Voronoi diagram edges:\", edges"
   ]
  },
  {
   "cell_type": "code",
   "execution_count": 14,
   "metadata": {
    "collapsed": false
   },
   "outputs": [],
   "source": [
    "# Main Procedure to compute the graph upstairs.\n",
    "# First, form the vertex set.\n",
    "vertexset = []\n",
    "for i in range(len(vertices)):\n",
    "    for j in range(len(wvalues[i])):\n",
    "        vertexset = vertexset + [(i,j)]\n",
    "\n",
    "edgeset = []\n",
    "# Now, forming the edge set. Every edge in the downstairs graph will have d edges in the lifted graph, where d is the \n",
    "# degree of f in w. As such, we loop over all of the edges to determine what these are.\n",
    "for e in edges:\n",
    "    # Taking the two indices out of the edges, as well as the complex values of the vertices for use in integration.\n",
    "    i0, i1 = e\n",
    "    z0, z1 = vertices[i0], vertices[i1]\n",
    "    # Defining the complex field which we are working under.\n",
    "    CCtw.<tC,wC> = CC[]\n",
    "    # Nils does some ode solver business here. This is where we 'move along the direction field' using df/dw to get to the\n",
    "    # next root.\n",
    "    ft = f(z0+tC*(z1-z0),wC)\n",
    "    G = -derivative(ft,tC)/derivative(ft,wC)\n",
    "    ode_solver = scipy.integrate.ode(lambda t,y: [complex(G(t,y[0]))])\n",
    "    ode_solver.set_integrator(\"zvode\",rtol=10^(-10), order = 7, method = \n",
    "                              \"adams\")\n",
    "    # Determining where the w0s get sent.\n",
    "    for i in range(len(wvalues[i0])):\n",
    "        # This is approximately the value which w0 gets sent to.\n",
    "        ode_solver.set_initial_value([wvalues[i0][i]],0)\n",
    "        w1 = CC(ode_solver.integrate(1)[0])\n",
    "        # Checking over the w1values to check which one it is. Later, it will likely be necessary to use some additional\n",
    "        # theory to check this, like some series expansions and things. For now I just use a ball of small radius.\n",
    "        for j in range(len(wvalues[i1])):\n",
    "            if abs(w1 - wvalues[i1][j]) < 10^(-5):\n",
    "                # If it is close to this particular value, then it adds an edge between the appropriate vertices.\n",
    "                edgeset = edgeset + [[(i0,i),(i1,j)]]\n",
    "        "
   ]
  },
  {
   "cell_type": "code",
   "execution_count": 15,
   "metadata": {
    "collapsed": false
   },
   "outputs": [
    {
     "name": "stdout",
     "output_type": "stream",
     "text": [
      "\n",
      " The vertex set is: \n",
      "[(0, 0), (0, 1), (0, 2), (1, 0), (1, 1), (1, 2), (2, 0), (2, 1), (2, 2), (3, 0), (3, 1), (3, 2), (4, 0), (4, 1), (4, 2), (5, 0), (5, 1), (5, 2), (6, 0), (6, 1), (6, 2), (7, 0), (7, 1), (7, 2), (8, 0), (8, 1), (8, 2), (9, 0), (9, 1), (9, 2), (10, 0), (10, 1), (10, 2), (11, 0), (11, 1), (11, 2), (12, 0), (12, 1), (12, 2), (13, 0), (13, 1), (13, 2), (14, 0), (14, 1), (14, 2), (15, 0), (15, 1), (15, 2), (16, 0), (16, 1), (16, 2), (17, 0), (17, 1), (17, 2), (18, 0), (18, 1), (18, 2), (19, 0), (19, 1), (19, 2), (20, 0), (20, 1), (20, 2), (21, 0), (21, 1), (21, 2)]\n",
      "\n",
      " The edge set is: \n",
      "[[(0, 0), (4, 0)], [(0, 1), (4, 2)], [(0, 2), (4, 1)], [(0, 0), (7, 0)], [(0, 1), (7, 1)], [(0, 2), (7, 2)], [(1, 0), (3, 2)], [(1, 1), (3, 1)], [(1, 2), (3, 0)], [(1, 0), (5, 2)], [(1, 1), (5, 0)], [(1, 2), (5, 1)], [(2, 0), (3, 0)], [(2, 1), (3, 1)], [(2, 2), (3, 2)], [(2, 0), (6, 0)], [(2, 1), (6, 1)], [(2, 2), (6, 2)], [(2, 0), (20, 0)], [(2, 1), (20, 1)], [(2, 2), (20, 2)], [(3, 0), (11, 0)], [(3, 1), (11, 2)], [(3, 2), (11, 1)], [(4, 0), (5, 2)], [(4, 1), (5, 0)], [(4, 2), (5, 1)], [(5, 0), (6, 0)], [(5, 1), (6, 1)], [(5, 2), (6, 2)], [(7, 0), (15, 0)], [(7, 1), (15, 1)], [(7, 2), (15, 2)], [(8, 0), (10, 0)], [(8, 1), (10, 2)], [(8, 2), (10, 1)], [(8, 0), (13, 1)], [(8, 1), (13, 0)], [(8, 2), (13, 2)], [(8, 0), (19, 0)], [(8, 1), (19, 1)], [(8, 2), (19, 2)], [(9, 0), (7, 1)], [(9, 1), (7, 0)], [(9, 2), (7, 2)], [(9, 0), (10, 1)], [(9, 1), (10, 2)], [(9, 2), (10, 0)], [(9, 0), (14, 0)], [(9, 1), (14, 1)], [(9, 2), (14, 2)], [(10, 0), (21, 1)], [(10, 1), (21, 2)], [(10, 2), (21, 0)], [(11, 0), (12, 2)], [(11, 1), (12, 0)], [(11, 2), (12, 1)], [(11, 0), (20, 1)], [(11, 1), (20, 2)], [(11, 2), (20, 0)], [(12, 0), (13, 0)], [(12, 1), (13, 1)], [(12, 2), (13, 2)], [(14, 0), (15, 0)], [(14, 1), (15, 1)], [(14, 2), (15, 2)], [(16, 0), (4, 2)], [(16, 1), (4, 0)], [(16, 2), (4, 1)], [(16, 0), (6, 0)], [(16, 1), (6, 2)], [(16, 2), (6, 1)], [(16, 0), (15, 0)], [(16, 1), (15, 1)], [(16, 2), (15, 2)], [(16, 0), (17, 0)], [(16, 1), (17, 1)], [(16, 2), (17, 2)], [(17, 0), (20, 0)], [(17, 1), (20, 1)], [(17, 2), (20, 2)], [(17, 0), (21, 0)], [(17, 1), (21, 1)], [(17, 2), (21, 2)], [(18, 0), (13, 0)], [(18, 1), (13, 1)], [(18, 2), (13, 2)], [(18, 0), (19, 0)], [(18, 1), (19, 1)], [(18, 2), (19, 2)], [(18, 0), (20, 0)], [(18, 1), (20, 2)], [(18, 2), (20, 1)], [(19, 0), (21, 0)], [(19, 1), (21, 1)], [(19, 2), (21, 2)], [(21, 0), (14, 0)], [(21, 1), (14, 2)], [(21, 2), (14, 1)]]\n"
     ]
    }
   ],
   "source": [
    "print \"\\n The vertex set is: \\n\", vertexset\n",
    "print \"\\n The edge set is: \\n\", edgeset"
   ]
  },
  {
   "cell_type": "code",
   "execution_count": 16,
   "metadata": {
    "collapsed": false
   },
   "outputs": [],
   "source": [
    "# My edge set will always be of the form\n",
    "# [( [i,0], [j,p] ), ... , ( [i,d-1], [j,q]), ( [k,0], [l,r] ) ... ].\n",
    "# Because I sorted it that way. This makes it pretty easy to access permutations because I can just take the second \n",
    "# coordinate of the second vertex in my edge.\n",
    "#\n",
    "# NOTE: If I drop the sorting which I do earlier on, this will fail.\n",
    "#\n",
    "Sn = SymmetricGroup([0..d])\n",
    "\n",
    "# Computing the set of permutations associated with each edge.\n",
    "PermSet = []\n",
    "for n in range(len(edges)):\n",
    "    tempPerm = []\n",
    "    for i in [0..d-1]:\n",
    "        tempPerm = tempPerm + [edgeset[d*n+i][1][1]]\n",
    "    PermSet = PermSet + [Sn(tempPerm)]"
   ]
  },
  {
   "cell_type": "code",
   "execution_count": 17,
   "metadata": {
    "collapsed": false
   },
   "outputs": [
    {
     "data": {
      "text/plain": [
       "[((0, 4), (1,2)),\n",
       " ((0, 7), ()),\n",
       " ((1, 3), (0,2)),\n",
       " ((1, 5), (0,2,1)),\n",
       " ((2, 3), ()),\n",
       " ((2, 6), ()),\n",
       " ((2, 20), ()),\n",
       " ((3, 11), (1,2)),\n",
       " ((4, 5), (0,2,1)),\n",
       " ((5, 6), ()),\n",
       " ((7, 15), ()),\n",
       " ((8, 10), (1,2)),\n",
       " ((8, 13), (0,1)),\n",
       " ((8, 19), ()),\n",
       " ((9, 7), (0,1)),\n",
       " ((9, 10), (0,1,2)),\n",
       " ((9, 14), ()),\n",
       " ((10, 21), (0,1,2)),\n",
       " ((11, 12), (0,2,1)),\n",
       " ((11, 20), (0,1,2)),\n",
       " ((12, 13), ()),\n",
       " ((14, 15), ()),\n",
       " ((16, 4), (0,2,1)),\n",
       " ((16, 6), (1,2)),\n",
       " ((16, 15), ()),\n",
       " ((16, 17), ()),\n",
       " ((17, 20), ()),\n",
       " ((17, 21), ()),\n",
       " ((18, 13), ()),\n",
       " ((18, 19), ()),\n",
       " ((18, 20), (1,2)),\n",
       " ((19, 21), ()),\n",
       " ((21, 14), (1,2))]"
      ]
     },
     "execution_count": 17,
     "metadata": {},
     "output_type": "execute_result"
    }
   ],
   "source": [
    "zip(edges, PermSet)"
   ]
  },
  {
   "cell_type": "code",
   "execution_count": 18,
   "metadata": {
    "collapsed": false
   },
   "outputs": [
    {
     "data": {
      "image/png": "[encoded data removed]",
      "text/plain": [
       "Graphics object consisting of 56 graphics primitives"
      ]
     },
     "execution_count": 18,
     "metadata": {},
     "output_type": "execute_result"
    }
   ],
   "source": [
    "downstgraph = Graph(edges)\n",
    "downstgraph.plot()"
   ]
  },
  {
   "cell_type": "code",
   "execution_count": 19,
   "metadata": {
    "collapsed": false
   },
   "outputs": [
    {
     "name": "stdout",
     "output_type": "stream",
     "text": [
      "[(), (), (), (0,2,1), (0,2,1), (0,1), (0,2), (1,2), (1,2), (0,1,2), (1,2), (0,2)]\n"
     ]
    }
   ],
   "source": [
    "# Computing the set of generators of the monodromy group.\n",
    "\n",
    "cycbasisd = downstgraph.cycle_basis()\n",
    "\n",
    "# Forming this as a set to keep the information of each cycle. The i-th permutation corresponds to the i-th cycle, I want\n",
    "# to keep this information.\n",
    "monodromygens = []\n",
    "perm = Sn(())\n",
    "for c in cycbasisd:\n",
    "    for i in range(len(c)-1):\n",
    "        # My permutations are 'directed'- they depend on the direction which you're moving. Since my PermSet was \n",
    "        # constructed so that the permutations only correspond to 'lower going to higher', I add this conditional checking\n",
    "        # which case I'm in. If I have an edge like (5,3), it takes the inverse instead.\n",
    "        if (c[i] < c[i+1]):\n",
    "            perm = perm*PermSet[c[i]]\n",
    "        else:\n",
    "            perm = perm*(PermSet[c[i]])^(-1)\n",
    "    if (c[-1] < c[0]):\n",
    "        perm = perm*PermSet[c[-1]]\n",
    "    else:\n",
    "        perm = perm*(PermSet[c[-1]])^(-1)\n",
    "    monodromygens = monodromygens + [perm]\n",
    "\n",
    "print monodromygens"
   ]
  },
  {
   "cell_type": "code",
   "execution_count": 30,
   "metadata": {
    "collapsed": false
   },
   "outputs": [],
   "source": [
    "upstgraph = Graph(edgeset)"
   ]
  },
  {
   "cell_type": "code",
   "execution_count": 21,
   "metadata": {
    "collapsed": false
   },
   "outputs": [],
   "source": [
    "cycbasisu = upstgraph.cycle_basis()"
   ]
  },
  {
   "cell_type": "code",
   "execution_count": 23,
   "metadata": {
    "collapsed": false
   },
   "outputs": [],
   "source": [
    "# Computing the Gram matrix.\n",
    "cn = len(cycbasisu)\n",
    "# Forming a list of lists of zeroes. Later this will be converted into a matrix.\n",
    "intersectionprod = [[0 for c in cycbasisu] for c in cycbasisu]\n",
    "# This loop will start at the entry (0,1), and proceed along the row up til (0,cn-1). Then it will go to entry (1,2), and \n",
    "# proceed along the row, etc.\n",
    "for i in range(cn-1):\n",
    "    for j in range(cn-1-i):\n",
    "        # Initializing the intersection product value.\n",
    "        intsum = 0\n",
    "        # Intersection of the edges\n",
    "        intsec = set(cycbasisu[i]).intersection(set(cycbasisu[j+i+1]))\n",
    "        # First if statement, checking if the intersection is non-empty. If it isn't, then we'll just skip all of the work\n",
    "        if intsec != set():\n",
    "            # For each vertex in the intersection:\n",
    "            for v in intsec:\n",
    "                # Get indices of the vertex in the cycles.\n",
    "                i0 = cycbasisu[i].index(v)\n",
    "                i1 = cycbasisu[j+i+1].index(v)\n",
    "                # Get the complex value of the vertex v.\n",
    "                vd = vertices[cycbasisu[i][i0][0]]\n",
    "                # Get the two adjacent vertices to v in each cycle. There is some modular arithmetic here for if v is the\n",
    "                # last vertex in the cycle, so that the next adjacent vertex is the first element in the list.\n",
    "                # Also, I just skip straight to the downstairs vertices since that's what we care about.\n",
    "                vds = [cycbasisu[i][i0-1][0],\n",
    "                      cycbasisu[i][mod(i0+1,len(cycbasisu[i]))][0],\n",
    "                      cycbasisu[j+i+1][i1-1][0],\n",
    "                      cycbasisu[j+i+1][mod(i1+1,len(cycbasisu[j+i+1]))][0]]\n",
    "                # The angles of the vectors.\n",
    "                cds = [(vertices[vds[0]] - vd).argument(),\n",
    "                       (vertices[vds[1]] - vd).argument(),\n",
    "                       (vertices[vds[2]] - vd).argument(),\n",
    "                       (vertices[vds[3]] - vd).argument()]\n",
    "                # Above, a_in = cds[0], a_out = cds[1]\n",
    "                #        b_in = cds[2], b_out = cds[3].\n",
    "                # Lots of cases.\n",
    "                if cds[0] < cds[1]:\n",
    "                    # 1\n",
    "                    if (cds[0] < cds[2] < cds[1]):\n",
    "                        intsum += 1/2\n",
    "                    # 2\n",
    "                    if ((cds[2] < cds[0]) or (cds[1] < cds[2])):\n",
    "                        intsum -= 1/2\n",
    "                    # 3\n",
    "                    if (cds[0] < cds[3] < cds[1]):\n",
    "                        intsum -= 1/2\n",
    "                    # 4\n",
    "                    if ((cds[3] < cds[0]) or (cds[1] < cds[3])):\n",
    "                        intsum += 1/2\n",
    "                else:\n",
    "                    assert(cds[1] < cds[0])\n",
    "                    # 5\n",
    "                    if (cds[1] < cds[2] < cds[0]):\n",
    "                        intsum -= 1/2\n",
    "                    # 6\n",
    "                    if ((cds[2] < cds[1]) or (cds[0] < cds[2])):\n",
    "                        intsum += 1/2\n",
    "                    # 7\n",
    "                    if (cds[1] < cds[3] < cds[0]):\n",
    "                        intsum += 1/2\n",
    "                    # 8\n",
    "                    if ((cds[3] < cds[1]) or (cds[0] < cds[3])):\n",
    "                        intsum -= 1/2\n",
    "        intersectionprod[i][j+i+1] = intsum\n",
    "        # Skew Symmetry\n",
    "        intersectionprod[j+i+1][i] = -intsum\n",
    "\n",
    "Gmatrix = Matrix(intersectionprod)"
   ]
  },
  {
   "cell_type": "code",
   "execution_count": 29,
   "metadata": {
    "collapsed": false
   },
   "outputs": [
    {
     "name": "stdout",
     "output_type": "stream",
     "text": [
      "8\n"
     ]
    }
   ],
   "source": [
    "# Checking the stuff. The rank should be 2*g where g is the genus.\n",
    "V = ZZ^cn\n",
    "W = Gmatrix.kernel()\n",
    "M = V/W\n",
    "b = matrix([v.lift() for v in M.gens()])\n",
    "Mrank = b.rank()\n",
    "g = Mrank/2\n",
    "print Mrank"
   ]
  },
  {
   "cell_type": "code",
   "execution_count": 28,
   "metadata": {
    "collapsed": false
   },
   "outputs": [
    {
     "name": "stdout",
     "output_type": "stream",
     "text": [
      "[ 0  1  0  0  0  0  0  0]\n",
      "[-1  0  0  0  0  0  0  0]\n",
      "[ 0  0  0  0  1  0  0  1]\n",
      "[ 0  0  0  0 -1 -1  0  0]\n",
      "[ 0  0 -1  1  0 -1  0  1]\n",
      "[ 0  0  0  1  1  0  1  1]\n",
      "[ 0  0  0  0  0 -1  0  0]\n",
      "[ 0  0 -1  0 -1 -1  0  0]\n",
      "1\n"
     ]
    }
   ],
   "source": [
    "# Second checking stuff thing. The determinant should be 1, unless the genus is zero in which case it'll probably\n",
    "# return an error.\n",
    "newgram = b*Gmatrix*(b.transpose())\n",
    "print newgram\n",
    "if not(newgram.is_zero()):\n",
    "    print newgram.determinant()"
   ]
  },
  {
   "cell_type": "code",
   "execution_count": 26,
   "metadata": {
    "collapsed": false
   },
   "outputs": [],
   "source": [
    "# Input:   mat   - A matrix.\n",
    "#        i,j,k,l - Integers with i <= j, k <= l.\n",
    "#\n",
    "# Output: A block of matrix mat- the i-jth rows, and k-lth columns.\n",
    "#\n",
    "def takeblock(mat,i,j,k,l):\n",
    "    rowind = [i+p for p in range(j-i+1)]\n",
    "    colind = [k+p for p in range(l-k+1)]\n",
    "    return matrix(ZZ, [[mat[p][q] for q in colind] for p in rowind])\n",
    "\n",
    "# Input: mat - A matrix.\n",
    "#        i   - An integer.\n",
    "#        rc  - A string.\n",
    "#\n",
    "# Output: Adds i rows or columns of zeroes to mat, from the top or bottom.\n",
    "#\n",
    "def addzeroes(mat,i,rc):\n",
    "    if i == 0:\n",
    "        return mat\n",
    "    elif (rc == \"rowt\"):\n",
    "        return matrix([[0 for j in range(i)]+list(mat.transpose()[k]) for k in range(mat.ncols())]).transpose()\n",
    "    elif (rc == \"coll\"):\n",
    "        return matrix([[0 for j in range(i)]+list(mat[k]) for k in range(mat.nrows())])\n",
    "    elif (rc == \"rowb\"):\n",
    "        return matrix([list(mat.transpose()[k])+[0 for j in range(i)] for k in range(mat.ncols())]).transpose()\n",
    "    elif (rc == \"colr\"):\n",
    "        return matrix([list(mat[k])+[0 for j in range(i)] for k in range(mat.nrows())])\n",
    "    else:\n",
    "        print \"Error, string should be rowt, rowb, coll or colr.\"\n",
    "        return\n",
    "\n",
    "# Input: mat1, mat2 - Matrices with the same number of columns.\n",
    "#\n",
    "# Output: Returns a matrix ( mat1 )\n",
    "#                          ( mat2 ).\n",
    "#\n",
    "def conjoinmat(mat1, mat2):\n",
    "    return matrix([mat1[i] for i in range(mat1.nrows())] + [mat2[i] for i in range(mat2.nrows())])"
   ]
  },
  {
   "cell_type": "code",
   "execution_count": 27,
   "metadata": {
    "collapsed": false
   },
   "outputs": [
    {
     "name": "stdout",
     "output_type": "stream",
     "text": [
      "49 x 49 dense matrix over Rational Field\n"
     ]
    }
   ],
   "source": [
    "# Input: A skew-symmetric square matrix M.\n",
    "#\n",
    "# Output: A matrix P such that PMP^T = J, the standard symplectic basis.\n",
    "#\n",
    "def FrobAlg(mat):\n",
    "    matrank = mat.rank()\n",
    "    P = matrix.identity(mat.nrows())\n",
    "    currmat = mat\n",
    "    for i in range(matrank/2):\n",
    "        currdim = currmat.nrows()\n",
    "        # In A.smith_form(), we get RAC = D.\n",
    "        # The output is [D,R,C].\n",
    "        # To form M, take first row of R.\n",
    "        e1 = currmat.smith_form()[1][0]\n",
    "        # The first column of C.\n",
    "        e2 = currmat.smith_form()[2].column(0)\n",
    "        # Form M.\n",
    "        M = matrix([e1,e2])\n",
    "        # Take the last n-2 rows of Q in PNQ = M.\n",
    "        # Since Smith Normal form gives P^(-1) M Q^(-1) = N,\n",
    "        # we take the inverses.\n",
    "        Mtil = conjoinmat(M, takeblock(M.smith_form()[2]^(-1),2,currdim-1,0,currdim-1))\n",
    "        # B as in Frobenius proof.\n",
    "        B = Mtil*currmat*(Mtil.transpose())\n",
    "        # R as in Frobenius proof.\n",
    "        R = takeblock(B,0,1,2,currdim-1)\n",
    "        R = matrix([[0,1],[-1,0]])*R\n",
    "        # X as in Frobenius proof.\n",
    "        X = addzeroes(addzeroes(R,2,\"coll\"),currdim-2,\"rowb\").transpose() + matrix.identity(currdim)\n",
    "        # P, the desired output. This matrix will be smol. So we make it big.\n",
    "        Pprime = X*Mtil\n",
    "        if (i != 0):\n",
    "            Pprime = (addzeroes(addzeroes(Pprime,2*i,\"coll\"),2*i,\"rowt\") + \n",
    "                      addzeroes(addzeroes(matrix.identity(2*i),currdim,\"colr\"),currdim,\"rowb\"))\n",
    "        P = Pprime*P\n",
    "        # Change the matrix to A_1 as in Frobenius proof.\n",
    "        currmat = takeblock(X*B*(X.transpose()),2,currdim-1,2,currdim-1)\n",
    "    return P\n",
    "\n",
    "Pf = FrobAlg(Gmatrix)\n",
    "print Pf*Gmatrix*(Pf.transpose())\n",
    "\n",
    "# note, referencing smith form twice is bad"
   ]
  },
  {
   "cell_type": "code",
   "execution_count": 28,
   "metadata": {
    "collapsed": false
   },
   "outputs": [
    {
     "name": "stdout",
     "output_type": "stream",
     "text": [
      "49 x 49 dense matrix over Rational Field\n"
     ]
    }
   ],
   "source": [
    "print Pf"
   ]
  },
  {
   "cell_type": "code",
   "execution_count": 29,
   "metadata": {
    "collapsed": false
   },
   "outputs": [],
   "source": [
    "# We want 2g cycles. \n",
    "# a_i = \\sum_{j=1}^r Pf[i][j] c_j\n",
    "# b_i = \\sum_{j=1}^r Pf[i+g][j] c_j\n",
    "# i = 1..g\n",
    "\n",
    "# Define the cycle sets.\n",
    "acycles = [[] for i in range(g)]\n",
    "bcycles = [[] for i in range(g)]\n",
    "cycleintersection2 = set([cycbasisu[i][j] for i in range(cn) for j in range(len(cycbasisu[i]))])\n",
    "# There are g a and b cycles.\n",
    "for i in range(g):\n",
    "    cycleintersection = cycleintersection2\n",
    "    # Range over the size of the Gram matrix.\n",
    "    for j in range(cn):\n",
    "        # a cycles if statements:\n",
    "        # If positive, adds the cycle in the direction it went.\n",
    "        if Pf[i][j] == 1:\n",
    "            acycles[i] += cycbasisu[j]\n",
    "            cycleintersection = cycleintersection.intersection(set(cycbasisu[j]))\n",
    "        # Otherwise go the other way.\n",
    "        elif Pf[i][j] == -1:\n",
    "            acycles[i] += [x for x in reversed(cycbasisu[j])]\n",
    "            cycleintersection = cycleintersection.intersection(set(cycbasisu[j]))\n",
    "        # Only goes over non-zero entries.\n",
    "        else:\n",
    "            assert Pf[i][j] == 0\n",
    "        # b cycles if statements:\n",
    "        if Pf[i+g][j] == 1:\n",
    "            bcycles[i] += cycbasisu[j]\n",
    "        # Otherwise go the other way.\n",
    "        elif Pf[i+g][j] == -1:\n",
    "            bcycles[i] += reversed(cycbasisu[j])\n",
    "        # Only goes over non-zero entries.\n",
    "        else:\n",
    "            assert Pf[i+g][j] == 0\n",
    "        "
   ]
  },
  {
   "cell_type": "code",
   "execution_count": null,
   "metadata": {
    "collapsed": false
   },
   "outputs": [],
   "source": []
  },
  {
   "cell_type": "code",
   "execution_count": null,
   "metadata": {
    "collapsed": false
   },
   "outputs": [],
   "source": []
  },
  {
   "cell_type": "code",
   "execution_count": null,
   "metadata": {
    "collapsed": true
   },
   "outputs": [],
   "source": []
  }
 ],
 "metadata": {
  "kernelspec": {
   "display_name": "Sage 6.9",
   "language": "",
   "name": "sage_6_9"
  },
  "language_info": {
   "codemirror_mode": {
    "name": "ipython",
    "version": 2
   },
   "file_extension": ".py",
   "mimetype": "text/x-python",
   "name": "python",
   "nbconvert_exporter": "python",
   "pygments_lexer": "ipython2",
   "version": "2.7.9"
  }
 },
 "nbformat": 4,
 "nbformat_minor": 0
}
